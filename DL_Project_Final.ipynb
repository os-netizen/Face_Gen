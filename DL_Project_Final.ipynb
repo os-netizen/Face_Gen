{
  "nbformat": 4,
  "nbformat_minor": 0,
  "metadata": {
    "colab": {
      "provenance": []
    },
    "kernelspec": {
      "name": "python3",
      "display_name": "Python 3"
    },
    "language_info": {
      "name": "python"
    },
    "gpuClass": "standard"
  },
  "cells": [
    {
      "cell_type": "code",
      "source": [
        "from google.colab import drive\n",
        "drive.mount('/content/gdrive/')"
      ],
      "metadata": {
        "colab": {
          "base_uri": "https://localhost:8080/"
        },
        "id": "9v3tgRltXcGN",
        "outputId": "3738f9ad-1242-44d1-fba3-1b535bcc29f1"
      },
      "execution_count": 1,
      "outputs": [
        {
          "output_type": "stream",
          "name": "stdout",
          "text": [
            "Mounted at /content/gdrive/\n"
          ]
        }
      ]
    },
    {
      "cell_type": "code",
      "execution_count": 2,
      "metadata": {
        "id": "moAjjKEebyid"
      },
      "outputs": [],
      "source": [
        "import torch\n",
        "import torch.nn as nn\n",
        "\n",
        "import numpy as np\n",
        "import pandas as pd\n",
        "import matplotlib.pyplot as plt\n",
        "\n",
        "import cv2\n",
        "import os\n",
        "import torchvision.transforms as transforms\n",
        "import torchvision.datasets as dset\n",
        "import matplotlib.pyplot as plt\n",
        "import torch.optim as optim\n",
        "from sklearn.model_selection import train_test_split\n",
        "from torch.utils.data import Dataset\n",
        "from torch.utils.data import DataLoader\n",
        "from sklearn.preprocessing import OneHotEncoder"
      ]
    },
    {
      "cell_type": "code",
      "source": [
        "!pwd\n"
      ],
      "metadata": {
        "colab": {
          "base_uri": "https://localhost:8080/"
        },
        "id": "FZ9702ipXs5X",
        "outputId": "c9b905f9-1ff1-4915-a26b-2d69ff547438"
      },
      "execution_count": 3,
      "outputs": [
        {
          "output_type": "stream",
          "name": "stdout",
          "text": [
            "/content\n"
          ]
        }
      ]
    },
    {
      "cell_type": "code",
      "source": [
        "df=pd.read_csv('DL-ClassProject-Data.csv')"
      ],
      "metadata": {
        "id": "U4pgZlf6ETs8"
      },
      "execution_count": 4,
      "outputs": []
    },
    {
      "cell_type": "code",
      "source": [
        "df.head()"
      ],
      "metadata": {
        "colab": {
          "base_uri": "https://localhost:8080/",
          "height": 542
        },
        "id": "DUe7UsBwEdRf",
        "outputId": "d59a4ee9-dc22-42d8-b0af-655da1242ad1"
      },
      "execution_count": 5,
      "outputs": [
        {
          "output_type": "execute_result",
          "data": {
            "text/plain": [
              "  File Name Face Shape       Type of Lip Color of Lip     Forehead  \\\n",
              "0   S1.jpeg    Diamond  Heavy lower lips         Pink  Fuzzi-Mount   \n",
              "1  S50.jpeg  Rectangle  Heavy lower lips        Black        Broad   \n",
              "2   S53.jpg     Oblong         Thin lips         Pink     Straight   \n",
              "3  S54.jpeg    Diamond  Heavy upper lips         Pink        Broad   \n",
              "4  S52.jpeg    Diamond  Heavy lower lips         Pink     Straight   \n",
              "\n",
              "  Cheeks with Dimple          Ear    Eye Size         Eye Defect Eye Color  \\\n",
              "0                Yes  pointed ear     Big Eye  No visible defect     Brown   \n",
              "1                 No   narrow ear  Medium Eye  No visible defect     Black   \n",
              "2                 No   Broad lobe  Medium Eye  No visible defect      Gray   \n",
              "3                 No  pointed ear  Medium Eye  No visible defect      Gray   \n",
              "4                Yes   Broad lobe     Big Eye  No visible defect     Black   \n",
              "\n",
              "   ... Eyebrow Separation Jaw Line Skin Color             Hair Color  \\\n",
              "0  ...     High Seperated    Sharp       Fair                  Black   \n",
              "1  ...          Seperated     Flat       Dark                  Black   \n",
              "2  ...          Seperated     Flat      White  Black and white mixed   \n",
              "3  ...          Seperated    Sharp      White                 Golden   \n",
              "4  ...     High Seperated    Sharp       Fair                  Black   \n",
              "\n",
              "           Hair Style Beard Mustache Style      Nose  \\\n",
              "0      Long hair girl               Shaven  Straight   \n",
              "1           Half Bald               Shaven    Raised   \n",
              "2  Medium length male               Shaven   Lowered   \n",
              "3      Long hair girl               Shaven  Straight   \n",
              "4      Long hair girl               Shaven  Straight   \n",
              "\n",
              "  Age (Rough estimate as appearing)  Gender  \\\n",
              "0                                32  Female   \n",
              "1                                18    Male   \n",
              "2                                50    Male   \n",
              "3                                32  Female   \n",
              "4                                31  Female   \n",
              "\n",
              "  Identification mark if any (describe)  \n",
              "0                                    No  \n",
              "1                                    na  \n",
              "2                                   Non  \n",
              "3                                   NaN  \n",
              "4                                    No  \n",
              "\n",
              "[5 rows x 21 columns]"
            ],
            "text/html": [
              "\n",
              "  <div id=\"df-f89355c3-ece1-49c3-bdc2-138d5f6fb171\">\n",
              "    <div class=\"colab-df-container\">\n",
              "      <div>\n",
              "<style scoped>\n",
              "    .dataframe tbody tr th:only-of-type {\n",
              "        vertical-align: middle;\n",
              "    }\n",
              "\n",
              "    .dataframe tbody tr th {\n",
              "        vertical-align: top;\n",
              "    }\n",
              "\n",
              "    .dataframe thead th {\n",
              "        text-align: right;\n",
              "    }\n",
              "</style>\n",
              "<table border=\"1\" class=\"dataframe\">\n",
              "  <thead>\n",
              "    <tr style=\"text-align: right;\">\n",
              "      <th></th>\n",
              "      <th>File Name</th>\n",
              "      <th>Face Shape</th>\n",
              "      <th>Type of Lip</th>\n",
              "      <th>Color of Lip</th>\n",
              "      <th>Forehead</th>\n",
              "      <th>Cheeks with Dimple</th>\n",
              "      <th>Ear</th>\n",
              "      <th>Eye Size</th>\n",
              "      <th>Eye Defect</th>\n",
              "      <th>Eye Color</th>\n",
              "      <th>...</th>\n",
              "      <th>Eyebrow Separation</th>\n",
              "      <th>Jaw Line</th>\n",
              "      <th>Skin Color</th>\n",
              "      <th>Hair Color</th>\n",
              "      <th>Hair Style</th>\n",
              "      <th>Beard Mustache Style</th>\n",
              "      <th>Nose</th>\n",
              "      <th>Age (Rough estimate as appearing)</th>\n",
              "      <th>Gender</th>\n",
              "      <th>Identification mark if any (describe)</th>\n",
              "    </tr>\n",
              "  </thead>\n",
              "  <tbody>\n",
              "    <tr>\n",
              "      <th>0</th>\n",
              "      <td>S1.jpeg</td>\n",
              "      <td>Diamond</td>\n",
              "      <td>Heavy lower lips</td>\n",
              "      <td>Pink</td>\n",
              "      <td>Fuzzi-Mount</td>\n",
              "      <td>Yes</td>\n",
              "      <td>pointed ear</td>\n",
              "      <td>Big Eye</td>\n",
              "      <td>No visible defect</td>\n",
              "      <td>Brown</td>\n",
              "      <td>...</td>\n",
              "      <td>High Seperated</td>\n",
              "      <td>Sharp</td>\n",
              "      <td>Fair</td>\n",
              "      <td>Black</td>\n",
              "      <td>Long hair girl</td>\n",
              "      <td>Shaven</td>\n",
              "      <td>Straight</td>\n",
              "      <td>32</td>\n",
              "      <td>Female</td>\n",
              "      <td>No</td>\n",
              "    </tr>\n",
              "    <tr>\n",
              "      <th>1</th>\n",
              "      <td>S50.jpeg</td>\n",
              "      <td>Rectangle</td>\n",
              "      <td>Heavy lower lips</td>\n",
              "      <td>Black</td>\n",
              "      <td>Broad</td>\n",
              "      <td>No</td>\n",
              "      <td>narrow ear</td>\n",
              "      <td>Medium Eye</td>\n",
              "      <td>No visible defect</td>\n",
              "      <td>Black</td>\n",
              "      <td>...</td>\n",
              "      <td>Seperated</td>\n",
              "      <td>Flat</td>\n",
              "      <td>Dark</td>\n",
              "      <td>Black</td>\n",
              "      <td>Half Bald</td>\n",
              "      <td>Shaven</td>\n",
              "      <td>Raised</td>\n",
              "      <td>18</td>\n",
              "      <td>Male</td>\n",
              "      <td>na</td>\n",
              "    </tr>\n",
              "    <tr>\n",
              "      <th>2</th>\n",
              "      <td>S53.jpg</td>\n",
              "      <td>Oblong</td>\n",
              "      <td>Thin lips</td>\n",
              "      <td>Pink</td>\n",
              "      <td>Straight</td>\n",
              "      <td>No</td>\n",
              "      <td>Broad lobe</td>\n",
              "      <td>Medium Eye</td>\n",
              "      <td>No visible defect</td>\n",
              "      <td>Gray</td>\n",
              "      <td>...</td>\n",
              "      <td>Seperated</td>\n",
              "      <td>Flat</td>\n",
              "      <td>White</td>\n",
              "      <td>Black and white mixed</td>\n",
              "      <td>Medium length male</td>\n",
              "      <td>Shaven</td>\n",
              "      <td>Lowered</td>\n",
              "      <td>50</td>\n",
              "      <td>Male</td>\n",
              "      <td>Non</td>\n",
              "    </tr>\n",
              "    <tr>\n",
              "      <th>3</th>\n",
              "      <td>S54.jpeg</td>\n",
              "      <td>Diamond</td>\n",
              "      <td>Heavy upper lips</td>\n",
              "      <td>Pink</td>\n",
              "      <td>Broad</td>\n",
              "      <td>No</td>\n",
              "      <td>pointed ear</td>\n",
              "      <td>Medium Eye</td>\n",
              "      <td>No visible defect</td>\n",
              "      <td>Gray</td>\n",
              "      <td>...</td>\n",
              "      <td>Seperated</td>\n",
              "      <td>Sharp</td>\n",
              "      <td>White</td>\n",
              "      <td>Golden</td>\n",
              "      <td>Long hair girl</td>\n",
              "      <td>Shaven</td>\n",
              "      <td>Straight</td>\n",
              "      <td>32</td>\n",
              "      <td>Female</td>\n",
              "      <td>NaN</td>\n",
              "    </tr>\n",
              "    <tr>\n",
              "      <th>4</th>\n",
              "      <td>S52.jpeg</td>\n",
              "      <td>Diamond</td>\n",
              "      <td>Heavy lower lips</td>\n",
              "      <td>Pink</td>\n",
              "      <td>Straight</td>\n",
              "      <td>Yes</td>\n",
              "      <td>Broad lobe</td>\n",
              "      <td>Big Eye</td>\n",
              "      <td>No visible defect</td>\n",
              "      <td>Black</td>\n",
              "      <td>...</td>\n",
              "      <td>High Seperated</td>\n",
              "      <td>Sharp</td>\n",
              "      <td>Fair</td>\n",
              "      <td>Black</td>\n",
              "      <td>Long hair girl</td>\n",
              "      <td>Shaven</td>\n",
              "      <td>Straight</td>\n",
              "      <td>31</td>\n",
              "      <td>Female</td>\n",
              "      <td>No</td>\n",
              "    </tr>\n",
              "  </tbody>\n",
              "</table>\n",
              "<p>5 rows × 21 columns</p>\n",
              "</div>\n",
              "      <button class=\"colab-df-convert\" onclick=\"convertToInteractive('df-f89355c3-ece1-49c3-bdc2-138d5f6fb171')\"\n",
              "              title=\"Convert this dataframe to an interactive table.\"\n",
              "              style=\"display:none;\">\n",
              "        \n",
              "  <svg xmlns=\"http://www.w3.org/2000/svg\" height=\"24px\"viewBox=\"0 0 24 24\"\n",
              "       width=\"24px\">\n",
              "    <path d=\"M0 0h24v24H0V0z\" fill=\"none\"/>\n",
              "    <path d=\"M18.56 5.44l.94 2.06.94-2.06 2.06-.94-2.06-.94-.94-2.06-.94 2.06-2.06.94zm-11 1L8.5 8.5l.94-2.06 2.06-.94-2.06-.94L8.5 2.5l-.94 2.06-2.06.94zm10 10l.94 2.06.94-2.06 2.06-.94-2.06-.94-.94-2.06-.94 2.06-2.06.94z\"/><path d=\"M17.41 7.96l-1.37-1.37c-.4-.4-.92-.59-1.43-.59-.52 0-1.04.2-1.43.59L10.3 9.45l-7.72 7.72c-.78.78-.78 2.05 0 2.83L4 21.41c.39.39.9.59 1.41.59.51 0 1.02-.2 1.41-.59l7.78-7.78 2.81-2.81c.8-.78.8-2.07 0-2.86zM5.41 20L4 18.59l7.72-7.72 1.47 1.35L5.41 20z\"/>\n",
              "  </svg>\n",
              "      </button>\n",
              "      \n",
              "  <style>\n",
              "    .colab-df-container {\n",
              "      display:flex;\n",
              "      flex-wrap:wrap;\n",
              "      gap: 12px;\n",
              "    }\n",
              "\n",
              "    .colab-df-convert {\n",
              "      background-color: #E8F0FE;\n",
              "      border: none;\n",
              "      border-radius: 50%;\n",
              "      cursor: pointer;\n",
              "      display: none;\n",
              "      fill: #1967D2;\n",
              "      height: 32px;\n",
              "      padding: 0 0 0 0;\n",
              "      width: 32px;\n",
              "    }\n",
              "\n",
              "    .colab-df-convert:hover {\n",
              "      background-color: #E2EBFA;\n",
              "      box-shadow: 0px 1px 2px rgba(60, 64, 67, 0.3), 0px 1px 3px 1px rgba(60, 64, 67, 0.15);\n",
              "      fill: #174EA6;\n",
              "    }\n",
              "\n",
              "    [theme=dark] .colab-df-convert {\n",
              "      background-color: #3B4455;\n",
              "      fill: #D2E3FC;\n",
              "    }\n",
              "\n",
              "    [theme=dark] .colab-df-convert:hover {\n",
              "      background-color: #434B5C;\n",
              "      box-shadow: 0px 1px 3px 1px rgba(0, 0, 0, 0.15);\n",
              "      filter: drop-shadow(0px 1px 2px rgba(0, 0, 0, 0.3));\n",
              "      fill: #FFFFFF;\n",
              "    }\n",
              "  </style>\n",
              "\n",
              "      <script>\n",
              "        const buttonEl =\n",
              "          document.querySelector('#df-f89355c3-ece1-49c3-bdc2-138d5f6fb171 button.colab-df-convert');\n",
              "        buttonEl.style.display =\n",
              "          google.colab.kernel.accessAllowed ? 'block' : 'none';\n",
              "\n",
              "        async function convertToInteractive(key) {\n",
              "          const element = document.querySelector('#df-f89355c3-ece1-49c3-bdc2-138d5f6fb171');\n",
              "          const dataTable =\n",
              "            await google.colab.kernel.invokeFunction('convertToInteractive',\n",
              "                                                     [key], {});\n",
              "          if (!dataTable) return;\n",
              "\n",
              "          const docLinkHtml = 'Like what you see? Visit the ' +\n",
              "            '<a target=\"_blank\" href=https://colab.research.google.com/notebooks/data_table.ipynb>data table notebook</a>'\n",
              "            + ' to learn more about interactive tables.';\n",
              "          element.innerHTML = '';\n",
              "          dataTable['output_type'] = 'display_data';\n",
              "          await google.colab.output.renderOutput(dataTable, element);\n",
              "          const docLink = document.createElement('div');\n",
              "          docLink.innerHTML = docLinkHtml;\n",
              "          element.appendChild(docLink);\n",
              "        }\n",
              "      </script>\n",
              "    </div>\n",
              "  </div>\n",
              "  "
            ]
          },
          "metadata": {},
          "execution_count": 5
        }
      ]
    },
    {
      "cell_type": "code",
      "source": [
        "df=df.drop(['Identification mark if any (describe)', 'Eye Defect'], axis=1)"
      ],
      "metadata": {
        "id": "u8kpWApjEedf"
      },
      "execution_count": 6,
      "outputs": []
    },
    {
      "cell_type": "code",
      "source": [
        "y_col=['File Name']"
      ],
      "metadata": {
        "id": "nT6NjcVIEqZa"
      },
      "execution_count": 7,
      "outputs": []
    },
    {
      "cell_type": "code",
      "source": [
        "cat_cols=['Face Shape', 'Type of Lip', 'Color of Lip', 'Forehead', 'Cheeks with Dimple', 'Ear', 'Eye Size', 'Eye Color', 'Eyebrow Style', 'Eyebrow Separation', 'Jaw Line', 'Skin Color', 'Hair Color', 'Hair Style', 'Beard Mustache Style', 'Nose', 'Gender']\n",
        "cont_cols=['Age (Rough estimate as appearing)']"
      ],
      "metadata": {
        "id": "kLT88t_hFO86"
      },
      "execution_count": 8,
      "outputs": []
    },
    {
      "cell_type": "code",
      "source": [
        "df=df[df['Age (Rough estimate as appearing)'] != 'None']"
      ],
      "metadata": {
        "id": "p6zjbVuBYL8d"
      },
      "execution_count": 9,
      "outputs": []
    },
    {
      "cell_type": "code",
      "source": [
        "for cat in cat_cols:\n",
        "  df[cat]=df[cat].astype('category')"
      ],
      "metadata": {
        "id": "GKnT-33OGC9F"
      },
      "execution_count": 10,
      "outputs": []
    },
    {
      "cell_type": "code",
      "source": [
        "for cat in cat_cols:\n",
        "  df[cat]=df[cat].cat.codes"
      ],
      "metadata": {
        "id": "SSCpKrAOUTiX"
      },
      "execution_count": 11,
      "outputs": []
    },
    {
      "cell_type": "code",
      "source": [
        "enc=OneHotEncoder()"
      ],
      "metadata": {
        "id": "-4-jW53HUzUi"
      },
      "execution_count": 12,
      "outputs": []
    },
    {
      "cell_type": "code",
      "source": [
        "enc_data=pd.DataFrame(enc.fit_transform(df[cat_cols]).toarray())"
      ],
      "metadata": {
        "id": "4wifotpEU8zq"
      },
      "execution_count": 13,
      "outputs": []
    },
    {
      "cell_type": "code",
      "source": [
        "df=df.join(enc_data)"
      ],
      "metadata": {
        "id": "K93Y7ulwVQ-A"
      },
      "execution_count": 14,
      "outputs": []
    },
    {
      "cell_type": "code",
      "source": [
        "cats=np.stack([df[cat].values for cat in range(0, 88)], 1)"
      ],
      "metadata": {
        "id": "Iauqs_5qGE6o"
      },
      "execution_count": 15,
      "outputs": []
    },
    {
      "cell_type": "code",
      "source": [
        "cats=torch.tensor(cats, dtype=torch.int64)"
      ],
      "metadata": {
        "id": "i4uqGR_EGYEp"
      },
      "execution_count": 17,
      "outputs": []
    },
    {
      "cell_type": "code",
      "source": [
        "df['Age (Rough estimate as appearing)']=df['Age (Rough estimate as appearing)'].convert_dtypes()"
      ],
      "metadata": {
        "id": "9cK78FHOYwGD"
      },
      "execution_count": 18,
      "outputs": []
    },
    {
      "cell_type": "code",
      "source": [
        "for row in df.index:\n",
        "  val=df.loc[row, 'Age (Rough estimate as appearing)']\n",
        "  if val.find('-')!=-1:\n",
        "    lb=int(val.split('-')[0])\n",
        "    ub=int(val.split('-')[1])\n",
        "    df.loc[row, 'Age (Rough estimate as appearing)']=str((lb+ub)//2)"
      ],
      "metadata": {
        "id": "TYgleKmkaCt_"
      },
      "execution_count": 19,
      "outputs": []
    },
    {
      "cell_type": "code",
      "source": [
        "df['Age (Rough estimate as appearing)']=df['Age (Rough estimate as appearing)'].astype(str).astype(int)"
      ],
      "metadata": {
        "id": "aM7-Akq-95Wl"
      },
      "execution_count": 20,
      "outputs": []
    },
    {
      "cell_type": "code",
      "source": [
        "df['Age (Rough estimate as appearing)'].dtypes"
      ],
      "metadata": {
        "colab": {
          "base_uri": "https://localhost:8080/"
        },
        "id": "U1_qEkBGJTpG",
        "outputId": "7dfa4ec8-eb7b-4003-f561-00b64df24ac4"
      },
      "execution_count": 21,
      "outputs": [
        {
          "output_type": "execute_result",
          "data": {
            "text/plain": [
              "dtype('int64')"
            ]
          },
          "metadata": {},
          "execution_count": 21
        }
      ]
    },
    {
      "cell_type": "code",
      "source": [
        "conts = np.stack([df[col].values for col in cont_cols], 1)\n",
        "conts = torch.tensor(conts, dtype=torch.float)"
      ],
      "metadata": {
        "id": "Yfwlhdpk9v9M"
      },
      "execution_count": 22,
      "outputs": []
    },
    {
      "cell_type": "code",
      "source": [
        "conts[:5]"
      ],
      "metadata": {
        "colab": {
          "base_uri": "https://localhost:8080/"
        },
        "id": "SFaFVqEW9_uI",
        "outputId": "1014725a-6e6e-4a48-b158-e48847761c4c"
      },
      "execution_count": 23,
      "outputs": [
        {
          "output_type": "execute_result",
          "data": {
            "text/plain": [
              "tensor([[32.],\n",
              "        [18.],\n",
              "        [50.],\n",
              "        [32.],\n",
              "        [31.]])"
            ]
          },
          "metadata": {},
          "execution_count": 23
        }
      ]
    },
    {
      "cell_type": "code",
      "source": [
        "cats"
      ],
      "metadata": {
        "colab": {
          "base_uri": "https://localhost:8080/"
        },
        "id": "Oh_xyUaPJyTj",
        "outputId": "8555c9c3-e867-41cc-f313-1789e3b69409"
      },
      "execution_count": 24,
      "outputs": [
        {
          "output_type": "execute_result",
          "data": {
            "text/plain": [
              "tensor([[                   1,                    0,                    0,\n",
              "          ...,                    1,                    0,\n",
              "                            0],\n",
              "        [                   0,                    0,                    0,\n",
              "          ...,                    0,                    1,\n",
              "                            0],\n",
              "        [                   0,                    0,                    1,\n",
              "          ...,                    0,                    1,\n",
              "                            0],\n",
              "        ...,\n",
              "        [                   0,                    0,                    0,\n",
              "          ...,                    0,                    1,\n",
              "                            0],\n",
              "        [                   0,                    0,                    0,\n",
              "          ...,                    0,                    1,\n",
              "                            0],\n",
              "        [-9223372036854775808, -9223372036854775808, -9223372036854775808,\n",
              "          ..., -9223372036854775808, -9223372036854775808,\n",
              "         -9223372036854775808]])"
            ]
          },
          "metadata": {},
          "execution_count": 24
        }
      ]
    },
    {
      "cell_type": "code",
      "source": [
        "image_list = []\n",
        "filePath='/content/gdrive/MyDrive/Images'\n",
        "for fileName in df['File Name']:\n",
        "  # print(fileName)\n",
        "  # print(os.path.join(filePath,fileName))\n",
        "  img = cv2.imread(os.path.join(filePath,fileName))\n",
        "  # print(img)\n",
        "  if img is not None:\n",
        "    image_list.append(img)"
      ],
      "metadata": {
        "id": "Hoe8PeM8LD3G"
      },
      "execution_count": 25,
      "outputs": []
    },
    {
      "cell_type": "code",
      "source": [
        "len(image_list)"
      ],
      "metadata": {
        "colab": {
          "base_uri": "https://localhost:8080/"
        },
        "id": "gXVvCy1C-PBy",
        "outputId": "5e69df4a-d093-4776-dae2-bdbbc29f2ccd"
      },
      "execution_count": 26,
      "outputs": [
        {
          "output_type": "execute_result",
          "data": {
            "text/plain": [
              "977"
            ]
          },
          "metadata": {},
          "execution_count": 26
        }
      ]
    },
    {
      "cell_type": "code",
      "source": [
        "image_list[0].shape"
      ],
      "metadata": {
        "colab": {
          "base_uri": "https://localhost:8080/"
        },
        "id": "t3ERaM1i8wrq",
        "outputId": "fdb19f36-6dd7-4e42-9146-8898343bc110"
      },
      "execution_count": 27,
      "outputs": [
        {
          "output_type": "execute_result",
          "data": {
            "text/plain": [
              "(1490, 1000, 3)"
            ]
          },
          "metadata": {},
          "execution_count": 27
        }
      ]
    },
    {
      "cell_type": "code",
      "source": [
        "transform = transforms.Compose([\n",
        "    transforms.ToTensor(),\n",
        "    transforms.Resize((256, 256)),\n",
        "    transforms.Normalize([0.485, 0.456, 0.406],\n",
        "                         [0.229, 0.224, 0.225])\n",
        "])"
      ],
      "metadata": {
        "id": "lXL_EMYxweLu"
      },
      "execution_count": 28,
      "outputs": []
    },
    {
      "cell_type": "code",
      "source": [
        "imageTensors=torch.tensor(())\n",
        "for img in image_list:\n",
        "  tensor_img=transform(img)\n",
        "  tensor_img=tensor_img.unsqueeze(0)\n",
        "  imageTensors=torch.cat((imageTensors, tensor_img), 0)"
      ],
      "metadata": {
        "id": "Hpm52sy21eLa"
      },
      "execution_count": 31,
      "outputs": []
    },
    {
      "cell_type": "code",
      "source": [
        "imageTensors.shape"
      ],
      "metadata": {
        "colab": {
          "base_uri": "https://localhost:8080/"
        },
        "id": "Zy0m40Mg8iFD",
        "outputId": "6b8470d6-70a3-4ce7-8f0b-7778b1366dcc"
      },
      "execution_count": 32,
      "outputs": [
        {
          "output_type": "execute_result",
          "data": {
            "text/plain": [
              "torch.Size([977, 3, 256, 256])"
            ]
          },
          "metadata": {},
          "execution_count": 32
        }
      ]
    },
    {
      "cell_type": "code",
      "source": [
        "imageTensors[0].shape"
      ],
      "metadata": {
        "colab": {
          "base_uri": "https://localhost:8080/"
        },
        "id": "CR_VMzyH8jeK",
        "outputId": "2ad73b4f-12c8-45db-a115-2d05cefe97e8"
      },
      "execution_count": 33,
      "outputs": [
        {
          "output_type": "execute_result",
          "data": {
            "text/plain": [
              "torch.Size([3, 256, 256])"
            ]
          },
          "metadata": {},
          "execution_count": 33
        }
      ]
    },
    {
      "cell_type": "code",
      "source": [
        "len(cats)\n",
        "cats.shape"
      ],
      "metadata": {
        "colab": {
          "base_uri": "https://localhost:8080/"
        },
        "id": "6q0gGb_b9SXw",
        "outputId": "bf24927e-347a-45f2-e0a8-feb06391d8b5"
      },
      "execution_count": 35,
      "outputs": [
        {
          "output_type": "execute_result",
          "data": {
            "text/plain": [
              "torch.Size([977, 88])"
            ]
          },
          "metadata": {},
          "execution_count": 35
        }
      ]
    },
    {
      "cell_type": "code",
      "source": [
        "len(conts)\n",
        "conts.shape"
      ],
      "metadata": {
        "colab": {
          "base_uri": "https://localhost:8080/"
        },
        "id": "_sCMJVHg9f6_",
        "outputId": "02b01f2a-97af-4c41-808b-f30ad9264ec3"
      },
      "execution_count": 36,
      "outputs": [
        {
          "output_type": "execute_result",
          "data": {
            "text/plain": [
              "torch.Size([977, 1])"
            ]
          },
          "metadata": {},
          "execution_count": 36
        }
      ]
    },
    {
      "cell_type": "code",
      "source": [
        "len(imageTensors)"
      ],
      "metadata": {
        "colab": {
          "base_uri": "https://localhost:8080/"
        },
        "id": "5sxnM0ZE9mTA",
        "outputId": "44c6b5e8-b0a3-42bd-9767-1c36cffb4cd8"
      },
      "execution_count": 37,
      "outputs": [
        {
          "output_type": "execute_result",
          "data": {
            "text/plain": [
              "977"
            ]
          },
          "metadata": {},
          "execution_count": 37
        }
      ]
    },
    {
      "cell_type": "code",
      "source": [
        "x=torch.cat((cats, conts), 1)"
      ],
      "metadata": {
        "id": "i6u8EdY0CRPL"
      },
      "execution_count": 38,
      "outputs": []
    },
    {
      "cell_type": "code",
      "source": [
        "x=x.numpy()\n",
        "imageTensors=imageTensors.numpy()"
      ],
      "metadata": {
        "id": "HfI8MYcypmkG"
      },
      "execution_count": 40,
      "outputs": []
    },
    {
      "cell_type": "code",
      "source": [
        "x_train, x_test, y_train, y_test = train_test_split(x, imageTensors)"
      ],
      "metadata": {
        "id": "oQ866DevZBGM"
      },
      "execution_count": 41,
      "outputs": []
    },
    {
      "cell_type": "code",
      "source": [
        "x_train=torch.from_numpy(x_train)\n",
        "x_test=torch.from_numpy(x_test)\n",
        "y_train=torch.from_numpy(y_train)\n",
        "y_test=torch.from_numpy(y_test)"
      ],
      "metadata": {
        "id": "AGIAsw11ptK5"
      },
      "execution_count": 43,
      "outputs": []
    },
    {
      "cell_type": "code",
      "source": [
        "plt.imshow(np.transpose(y_train[0].numpy(), (1, 2, 0)));"
      ],
      "metadata": {
        "colab": {
          "base_uri": "https://localhost:8080/",
          "height": 306
        },
        "id": "95M_iz2ztYW8",
        "outputId": "b0fa46a6-16ae-4a89-8470-d028edcbae7b"
      },
      "execution_count": 45,
      "outputs": [
        {
          "output_type": "stream",
          "name": "stderr",
          "text": [
            "WARNING:matplotlib.image:Clipping input data to the valid range for imshow with RGB data ([0..1] for floats or [0..255] for integers).\n"
          ]
        },
        {
          "output_type": "display_data",
          "data": {
            "text/plain": [
              "<Figure size 432x288 with 1 Axes>"
            ],
            "image/png": "[encoded data removed]"
          },
          "metadata": {
            "needs_background": "light"
          }
        }
      ]
    },
    {
      "cell_type": "code",
      "source": [
        "def resize(tens):\n",
        "  # tens.unsqueeze_(0)\n",
        "  tens.unsqueeze_(1)\n",
        "  tens.unsqueeze_(2)\n",
        "  return tens"
      ],
      "metadata": {
        "id": "dDXdtiwEjtIU"
      },
      "execution_count": 46,
      "outputs": []
    },
    {
      "cell_type": "code",
      "source": [
        "import os\n",
        "import pandas as pd\n",
        "from torchvision.io import read_image\n",
        "\n",
        "class CustomDataset(Dataset):\n",
        "    def __init__(self, x, y):\n",
        "        self.x=x\n",
        "        self.y=y\n",
        "\n",
        "    def __len__(self):\n",
        "        return len(self.x)\n",
        "\n",
        "    def __getitem__(self, idx):\n",
        "                 \n",
        "        image = self.y[idx]\n",
        "        label = self.x[idx]\n",
        "        label=resize(label)\n",
        "        \n",
        "        return label, image  \n",
        "        \n",
        "        "
      ],
      "metadata": {
        "id": "m07BfM7ebn6s"
      },
      "execution_count": 48,
      "outputs": []
    },
    {
      "cell_type": "code",
      "source": [
        "training_data=CustomDataset(x_train, y_train)"
      ],
      "metadata": {
        "id": "bJgxIhI_dWmb"
      },
      "execution_count": 49,
      "outputs": []
    },
    {
      "cell_type": "code",
      "source": [
        "test_data=CustomDataset(x_test, y_test)"
      ],
      "metadata": {
        "id": "TLYjg0n9dgHM"
      },
      "execution_count": 50,
      "outputs": []
    },
    {
      "cell_type": "code",
      "source": [
        "train_dataloader = DataLoader(training_data, batch_size=64, shuffle=True)\n",
        "test_dataloader = DataLoader(test_data, batch_size=64, shuffle=True)"
      ],
      "metadata": {
        "id": "iOLrtz0hd1h3"
      },
      "execution_count": 51,
      "outputs": []
    },
    {
      "cell_type": "code",
      "source": [
        "class Generator(nn.Module):\n",
        "    def __init__(self, ngpu):\n",
        "        super(Generator, self).__init__()\n",
        "        self.ngpu = ngpu\n",
        "        self.main = nn.Sequential(\n",
        "            # input is Z, going into a convolution\n",
        "            nn.ConvTranspose2d( 89, 1024, 4, 1, 0, bias=False),\n",
        "            nn.BatchNorm2d(1024),\n",
        "            nn.ReLU(True),\n",
        "            # \n",
        "            nn.ConvTranspose2d(1024, 512, 4, 2, 1, bias=False),\n",
        "            nn.BatchNorm2d(512),\n",
        "            nn.ReLU(True),\n",
        "            # \n",
        "            nn.ConvTranspose2d( 512, 256, 4, 2, 1, bias=False),\n",
        "            nn.BatchNorm2d(256),\n",
        "            nn.ReLU(True),\n",
        "            # \n",
        "            nn.ConvTranspose2d( 256, 128, 4, 2, 1, bias=False),\n",
        "            nn.BatchNorm2d(128),\n",
        "            nn.ReLU(True),\n",
        "            # \n",
        "            nn.ConvTranspose2d( 128, 3, 4, 2, 1, bias=False),\n",
        "            nn.BatchNorm2d(3),\n",
        "            nn.ReLU(True),\n",
        "            #\n",
        "            nn.ConvTranspose2d( 3, 3, 4, 2, 1, bias=False),\n",
        "            nn.BatchNorm2d(3),\n",
        "            nn.ReLU(True),\n",
        "            #\n",
        "            nn.ConvTranspose2d( 3, 3, 4, 2, 1, bias=False),\n",
        "            nn.Sigmoid()\n",
        "            # \n",
        "        )\n",
        "\n",
        "    def forward(self, input):\n",
        "        return self.main(input)"
      ],
      "metadata": {
        "id": "LmVrXACW6WNi"
      },
      "execution_count": 54,
      "outputs": []
    },
    {
      "cell_type": "code",
      "source": [
        "model=Generator(0)"
      ],
      "metadata": {
        "id": "FWBxwy_p8f9H"
      },
      "execution_count": 62,
      "outputs": []
    },
    {
      "cell_type": "code",
      "source": [
        "# BCELoss function\n",
        "criterion = nn.BCELoss()\n",
        "optimizer = optim.Adam(model.parameters(), lr=0.0003, betas=(0.5, 0.999))"
      ],
      "metadata": {
        "id": "t9gq_yJn_Prn"
      },
      "execution_count": 63,
      "outputs": []
    },
    {
      "cell_type": "code",
      "source": [
        "import time\n",
        "start_time = time.time()\n",
        "\n",
        "epochs = 30\n",
        "\n",
        "train_losses = []\n",
        "test_losses = []\n",
        "train_correct = []\n",
        "test_correct = []\n",
        "\n",
        "for i in range(epochs):\n",
        "    \n",
        "    # Run the training batches\n",
        "    for b, (X_train, y_train) in enumerate(train_dataloader):\n",
        "  \n",
        "        b+=1\n",
        "        \n",
        "        y_pred = model(X_train)\n",
        "        loss = criterion(y_pred, y_train)\n",
        "        \n",
        "        # Update parameters\n",
        "        optimizer.zero_grad()\n",
        "        loss.backward()\n",
        "        optimizer.step()\n",
        "\n",
        "        # Print interim results\n",
        "        if b%3 == 0:\n",
        "            print(f'epoch: {i:2}  batch: {b:4} loss: {loss.item():10.8f}')\n",
        "\n",
        "    train_losses.append(loss.detach().numpy())\n",
        "\n",
        "    # Run the testing batches\n",
        "    with torch.no_grad():\n",
        "        for b, (X_test, y_test) in enumerate(test_dataloader):\n",
        "\n",
        "            # Apply the model\n",
        "            y_val = model(X_test)\n",
        "\n",
        "    loss = criterion(y_val, y_test)\n",
        "    test_losses.append(loss.detach().numpy())\n",
        "\n",
        "print(f'\\nDuration: {time.time() - start_time:.0f} seconds') # print the time elapsed"
      ],
      "metadata": {
        "id": "3X5-XxEuiuEd"
      },
      "execution_count": null,
      "outputs": []
    },
    {
      "cell_type": "code",
      "source": [
        "plt.plot(train_losses, label='training loss')\n",
        "plt.plot(test_losses, label='validation loss')\n",
        "plt.title('Loss at the end of each epoch')\n",
        "plt.legend();"
      ],
      "metadata": {
        "colab": {
          "base_uri": "https://localhost:8080/",
          "height": 281
        },
        "id": "gbSKCDB_t3Wg",
        "outputId": "67fb11f1-e7cf-430e-dcff-a5a10cf1bcb4"
      },
      "execution_count": 65,
      "outputs": [
        {
          "output_type": "display_data",
          "data": {
            "text/plain": [
              "<Figure size 432x288 with 1 Axes>"
            ],
            "image/png": "[encoded data removed]"
          },
          "metadata": {
            "needs_background": "light"
          }
        }
      ]
    },
    {
      "cell_type": "code",
      "source": [
        "inv_normalize = transforms.Normalize(\n",
        "    mean=[-0.485/0.229, -0.456/0.224, -0.406/0.225],\n",
        "    std=[1/0.229, 1/0.224, 1/0.225]\n",
        ")"
      ],
      "metadata": {
        "id": "FfER_MMpv5m3"
      },
      "execution_count": 66,
      "outputs": []
    },
    {
      "cell_type": "code",
      "source": [
        "# Testing model\n",
        "for b, (X_test, y_test) in enumerate(test_dataloader):\n",
        "  break\n",
        "testRes=model(X_test)\n",
        "testRes=torch.squeeze(testRes)\n",
        "testRes=inv_normalize(testRes)\n",
        "print(testRes[0].shape)\n",
        "plt.imshow(np.transpose(testRes[0].detach().numpy(), (1, 2, 0)));"
      ],
      "metadata": {
        "colab": {
          "base_uri": "https://localhost:8080/",
          "height": 286
        },
        "id": "hXX-AOknvha_",
        "outputId": "efca2265-41a2-4628-9700-9c1c1ed1e510"
      },
      "execution_count": 67,
      "outputs": [
        {
          "output_type": "stream",
          "name": "stdout",
          "text": [
            "torch.Size([3, 256, 256])\n"
          ]
        },
        {
          "output_type": "display_data",
          "data": {
            "text/plain": [
              "<Figure size 432x288 with 1 Axes>"
            ],
            "image/png": "[encoded data removed]"
          },
          "metadata": {
            "needs_background": "light"
          }
        }
      ]
    }
  ]
}